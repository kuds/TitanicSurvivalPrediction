{
 "cells": [
  {
   "cell_type": "markdown",
   "metadata": {},
   "source": [
    "# Titantic Survival Prediction\n",
    "The goal of this dataset is predict wheather someone will survive the crash of Titanic\n",
    "\n",
    "<a href=\"https://www.kaggle.com/c/titanic\">Kaggle Dataset</a>"
   ]
  },
  {
   "cell_type": "markdown",
   "metadata": {},
   "source": [
    "Load Dependencies"
   ]
  },
  {
   "cell_type": "code",
   "execution_count": 1,
   "metadata": {},
   "outputs": [],
   "source": [
    "import os\n",
    "import numpy\n",
    "import pandas\n",
    "import platform\n",
    "import matplotlib\n",
    "import matplotlib.pyplot as plt\n",
    "import scipy\n",
    "import sklearn\n",
    "import seaborn as sns\n",
    "\n",
    "%matplotlib inline"
   ]
  },
  {
   "cell_type": "code",
   "execution_count": 2,
   "metadata": {},
   "outputs": [
    {
     "name": "stdout",
     "output_type": "stream",
     "text": [
      "Python Version: 3.6.6\n",
      "Seaborn Version: 0.9.0\n",
      "Matplotlib Version: 3.0.2\n",
      "Numpy Version: 1.13.3\n",
      "Sklearn Version: 0.19.1\n",
      "Pandas Version: 0.23.0\n"
     ]
    }
   ],
   "source": [
    "print(\"Python Version: {}\".format(platform.python_version()))\n",
    "print(\"Seaborn Version: {0}\".format(sns.__version__))\n",
    "print(\"Matplotlib Version: {0}\".format(matplotlib.__version__))\n",
    "print(\"Numpy Version: {0}\".format(numpy.__version__))\n",
    "print(\"Sklearn Version: {0}\".format(sklearn.__version__))\n",
    "print(\"Pandas Version: {0}\".format(pandas.__version__))"
   ]
  },
  {
   "cell_type": "markdown",
   "metadata": {},
   "source": [
    "# Data Set Info"
   ]
  },
  {
   "cell_type": "markdown",
   "metadata": {},
   "source": [
    "|Variable|Definition|Key|\n",
    "|--------|----------|---|\n",
    "|survival|Survival|0 = No, 1 = Yes|\n",
    "|pclass|Ticket class|1 = 1st, 2 = 2nd, 3 = 3rd|\n",
    "|sex|Sex||\n",
    "|Age|Age in years||\n",
    "|sibsp|# of siblings / spouses aboard the Titanic||\n",
    "|parch|# of parents / children aboard the Titanic||\n",
    "|ticket|Ticket number||\n",
    "|fare|Passenger fare||\n",
    "|cabin|Cabin number||\t\n",
    "|embarked|Port of Embarkation|C = Cherbourg, Q = Queenstown, S = Southampton|\n",
    "\n",
    "### Variable Notes\n",
    "<b>pclass:</b> A proxy for socio-economic status (SES)\n",
    "<br>\n",
    "1st = Upper\n",
    "<br>\n",
    "2nd = Middle\n",
    "<br>\n",
    "3rd = Lower\n",
    "<br>\n",
    "\n",
    "<b>age:</b> Age is fractional if less than 1. If the age is estimated, is it in the form of xx.5\n",
    "<br>\n",
    "\n",
    "<b>sibsp:</b> The dataset defines family relations in this way...\n",
    "<br>\n",
    "Sibling = brother, sister, stepbrother, stepsister\n",
    "<br>\n",
    "Spouse = husband, wife (mistresses and fiancés were ignored)\n",
    "\n",
    "<b>parch:</b> The dataset defines family relations in this way...\n",
    "<br>\n",
    "Parent = mother, father\n",
    "<br>\n",
    "Child = daughter, son, stepdaughter, stepson\n",
    "<br>\n",
    "Some children travelled only with a nanny, therefore parch=0 for them.\n",
    "\n"
   ]
  },
  {
   "cell_type": "markdown",
   "metadata": {},
   "source": [
    "# Load Training and Testing Data"
   ]
  },
  {
   "cell_type": "code",
   "execution_count": 3,
   "metadata": {},
   "outputs": [],
   "source": [
    "dataDirectory = \"Data\"\n",
    "\n",
    "#Create File Path to Training and Testing Directores\n",
    "trainDirectory = os.path.join(dataDirectory, \"Train\")\n",
    "testDirectory = os.path.join(dataDirectory, \"Test\")\n",
    "\n",
    "#Create File Paths for Training and Testing Data\n",
    "trainFilePath = os.path.join(trainDirectory, \"train.csv\")\n",
    "testFilePath = os.path.join(testDirectory, \"test.csv\")\n",
    "\n",
    "#Load training and testing data into Data Frames\n",
    "trainDF = pandas.read_csv(trainFilePath)\n",
    "testDF = pandas.read_csv(testFilePath)"
   ]
  },
  {
   "cell_type": "code",
   "execution_count": 4,
   "metadata": {},
   "outputs": [
    {
     "data": {
      "text/html": [
       "<div>\n",
       "<style scoped>\n",
       "    .dataframe tbody tr th:only-of-type {\n",
       "        vertical-align: middle;\n",
       "    }\n",
       "\n",
       "    .dataframe tbody tr th {\n",
       "        vertical-align: top;\n",
       "    }\n",
       "\n",
       "    .dataframe thead th {\n",
       "        text-align: right;\n",
       "    }\n",
       "</style>\n",
       "<table border=\"1\" class=\"dataframe\">\n",
       "  <thead>\n",
       "    <tr style=\"text-align: right;\">\n",
       "      <th></th>\n",
       "      <th>PassengerId</th>\n",
       "      <th>Survived</th>\n",
       "      <th>Pclass</th>\n",
       "      <th>Name</th>\n",
       "      <th>Sex</th>\n",
       "      <th>Age</th>\n",
       "      <th>SibSp</th>\n",
       "      <th>Parch</th>\n",
       "      <th>Ticket</th>\n",
       "      <th>Fare</th>\n",
       "      <th>Cabin</th>\n",
       "      <th>Embarked</th>\n",
       "    </tr>\n",
       "  </thead>\n",
       "  <tbody>\n",
       "    <tr>\n",
       "      <th>0</th>\n",
       "      <td>1</td>\n",
       "      <td>0</td>\n",
       "      <td>3</td>\n",
       "      <td>Braund, Mr. Owen Harris</td>\n",
       "      <td>male</td>\n",
       "      <td>22.0</td>\n",
       "      <td>1</td>\n",
       "      <td>0</td>\n",
       "      <td>A/5 21171</td>\n",
       "      <td>7.2500</td>\n",
       "      <td>NaN</td>\n",
       "      <td>S</td>\n",
       "    </tr>\n",
       "    <tr>\n",
       "      <th>1</th>\n",
       "      <td>2</td>\n",
       "      <td>1</td>\n",
       "      <td>1</td>\n",
       "      <td>Cumings, Mrs. John Bradley (Florence Briggs Th...</td>\n",
       "      <td>female</td>\n",
       "      <td>38.0</td>\n",
       "      <td>1</td>\n",
       "      <td>0</td>\n",
       "      <td>PC 17599</td>\n",
       "      <td>71.2833</td>\n",
       "      <td>C85</td>\n",
       "      <td>C</td>\n",
       "    </tr>\n",
       "    <tr>\n",
       "      <th>2</th>\n",
       "      <td>3</td>\n",
       "      <td>1</td>\n",
       "      <td>3</td>\n",
       "      <td>Heikkinen, Miss. Laina</td>\n",
       "      <td>female</td>\n",
       "      <td>26.0</td>\n",
       "      <td>0</td>\n",
       "      <td>0</td>\n",
       "      <td>STON/O2. 3101282</td>\n",
       "      <td>7.9250</td>\n",
       "      <td>NaN</td>\n",
       "      <td>S</td>\n",
       "    </tr>\n",
       "    <tr>\n",
       "      <th>3</th>\n",
       "      <td>4</td>\n",
       "      <td>1</td>\n",
       "      <td>1</td>\n",
       "      <td>Futrelle, Mrs. Jacques Heath (Lily May Peel)</td>\n",
       "      <td>female</td>\n",
       "      <td>35.0</td>\n",
       "      <td>1</td>\n",
       "      <td>0</td>\n",
       "      <td>113803</td>\n",
       "      <td>53.1000</td>\n",
       "      <td>C123</td>\n",
       "      <td>S</td>\n",
       "    </tr>\n",
       "    <tr>\n",
       "      <th>4</th>\n",
       "      <td>5</td>\n",
       "      <td>0</td>\n",
       "      <td>3</td>\n",
       "      <td>Allen, Mr. William Henry</td>\n",
       "      <td>male</td>\n",
       "      <td>35.0</td>\n",
       "      <td>0</td>\n",
       "      <td>0</td>\n",
       "      <td>373450</td>\n",
       "      <td>8.0500</td>\n",
       "      <td>NaN</td>\n",
       "      <td>S</td>\n",
       "    </tr>\n",
       "  </tbody>\n",
       "</table>\n",
       "</div>"
      ],
      "text/plain": [
       "   PassengerId  Survived  Pclass  \\\n",
       "0            1         0       3   \n",
       "1            2         1       1   \n",
       "2            3         1       3   \n",
       "3            4         1       1   \n",
       "4            5         0       3   \n",
       "\n",
       "                                                Name     Sex   Age  SibSp  \\\n",
       "0                            Braund, Mr. Owen Harris    male  22.0      1   \n",
       "1  Cumings, Mrs. John Bradley (Florence Briggs Th...  female  38.0      1   \n",
       "2                             Heikkinen, Miss. Laina  female  26.0      0   \n",
       "3       Futrelle, Mrs. Jacques Heath (Lily May Peel)  female  35.0      1   \n",
       "4                           Allen, Mr. William Henry    male  35.0      0   \n",
       "\n",
       "   Parch            Ticket     Fare Cabin Embarked  \n",
       "0      0         A/5 21171   7.2500   NaN        S  \n",
       "1      0          PC 17599  71.2833   C85        C  \n",
       "2      0  STON/O2. 3101282   7.9250   NaN        S  \n",
       "3      0            113803  53.1000  C123        S  \n",
       "4      0            373450   8.0500   NaN        S  "
      ]
     },
     "execution_count": 4,
     "metadata": {},
     "output_type": "execute_result"
    }
   ],
   "source": [
    "trainDF.head()"
   ]
  },
  {
   "cell_type": "code",
   "execution_count": 5,
   "metadata": {},
   "outputs": [
    {
     "data": {
      "text/plain": [
       "PassengerId      int64\n",
       "Survived         int64\n",
       "Pclass           int64\n",
       "Name            object\n",
       "Sex             object\n",
       "Age            float64\n",
       "SibSp            int64\n",
       "Parch            int64\n",
       "Ticket          object\n",
       "Fare           float64\n",
       "Cabin           object\n",
       "Embarked        object\n",
       "dtype: object"
      ]
     },
     "execution_count": 5,
     "metadata": {},
     "output_type": "execute_result"
    }
   ],
   "source": [
    "#Get Columns and their data types\n",
    "trainDF.dtypes"
   ]
  },
  {
   "cell_type": "code",
   "execution_count": 6,
   "metadata": {},
   "outputs": [
    {
     "data": {
      "text/html": [
       "<div>\n",
       "<style scoped>\n",
       "    .dataframe tbody tr th:only-of-type {\n",
       "        vertical-align: middle;\n",
       "    }\n",
       "\n",
       "    .dataframe tbody tr th {\n",
       "        vertical-align: top;\n",
       "    }\n",
       "\n",
       "    .dataframe thead th {\n",
       "        text-align: right;\n",
       "    }\n",
       "</style>\n",
       "<table border=\"1\" class=\"dataframe\">\n",
       "  <thead>\n",
       "    <tr style=\"text-align: right;\">\n",
       "      <th></th>\n",
       "      <th>PassengerId</th>\n",
       "      <th>Pclass</th>\n",
       "      <th>Name</th>\n",
       "      <th>Sex</th>\n",
       "      <th>Age</th>\n",
       "      <th>SibSp</th>\n",
       "      <th>Parch</th>\n",
       "      <th>Ticket</th>\n",
       "      <th>Fare</th>\n",
       "      <th>Cabin</th>\n",
       "      <th>Embarked</th>\n",
       "    </tr>\n",
       "  </thead>\n",
       "  <tbody>\n",
       "    <tr>\n",
       "      <th>0</th>\n",
       "      <td>892</td>\n",
       "      <td>3</td>\n",
       "      <td>Kelly, Mr. James</td>\n",
       "      <td>male</td>\n",
       "      <td>34.5</td>\n",
       "      <td>0</td>\n",
       "      <td>0</td>\n",
       "      <td>330911</td>\n",
       "      <td>7.8292</td>\n",
       "      <td>NaN</td>\n",
       "      <td>Q</td>\n",
       "    </tr>\n",
       "    <tr>\n",
       "      <th>1</th>\n",
       "      <td>893</td>\n",
       "      <td>3</td>\n",
       "      <td>Wilkes, Mrs. James (Ellen Needs)</td>\n",
       "      <td>female</td>\n",
       "      <td>47.0</td>\n",
       "      <td>1</td>\n",
       "      <td>0</td>\n",
       "      <td>363272</td>\n",
       "      <td>7.0000</td>\n",
       "      <td>NaN</td>\n",
       "      <td>S</td>\n",
       "    </tr>\n",
       "    <tr>\n",
       "      <th>2</th>\n",
       "      <td>894</td>\n",
       "      <td>2</td>\n",
       "      <td>Myles, Mr. Thomas Francis</td>\n",
       "      <td>male</td>\n",
       "      <td>62.0</td>\n",
       "      <td>0</td>\n",
       "      <td>0</td>\n",
       "      <td>240276</td>\n",
       "      <td>9.6875</td>\n",
       "      <td>NaN</td>\n",
       "      <td>Q</td>\n",
       "    </tr>\n",
       "    <tr>\n",
       "      <th>3</th>\n",
       "      <td>895</td>\n",
       "      <td>3</td>\n",
       "      <td>Wirz, Mr. Albert</td>\n",
       "      <td>male</td>\n",
       "      <td>27.0</td>\n",
       "      <td>0</td>\n",
       "      <td>0</td>\n",
       "      <td>315154</td>\n",
       "      <td>8.6625</td>\n",
       "      <td>NaN</td>\n",
       "      <td>S</td>\n",
       "    </tr>\n",
       "    <tr>\n",
       "      <th>4</th>\n",
       "      <td>896</td>\n",
       "      <td>3</td>\n",
       "      <td>Hirvonen, Mrs. Alexander (Helga E Lindqvist)</td>\n",
       "      <td>female</td>\n",
       "      <td>22.0</td>\n",
       "      <td>1</td>\n",
       "      <td>1</td>\n",
       "      <td>3101298</td>\n",
       "      <td>12.2875</td>\n",
       "      <td>NaN</td>\n",
       "      <td>S</td>\n",
       "    </tr>\n",
       "  </tbody>\n",
       "</table>\n",
       "</div>"
      ],
      "text/plain": [
       "   PassengerId  Pclass                                          Name     Sex  \\\n",
       "0          892       3                              Kelly, Mr. James    male   \n",
       "1          893       3              Wilkes, Mrs. James (Ellen Needs)  female   \n",
       "2          894       2                     Myles, Mr. Thomas Francis    male   \n",
       "3          895       3                              Wirz, Mr. Albert    male   \n",
       "4          896       3  Hirvonen, Mrs. Alexander (Helga E Lindqvist)  female   \n",
       "\n",
       "    Age  SibSp  Parch   Ticket     Fare Cabin Embarked  \n",
       "0  34.5      0      0   330911   7.8292   NaN        Q  \n",
       "1  47.0      1      0   363272   7.0000   NaN        S  \n",
       "2  62.0      0      0   240276   9.6875   NaN        Q  \n",
       "3  27.0      0      0   315154   8.6625   NaN        S  \n",
       "4  22.0      1      1  3101298  12.2875   NaN        S  "
      ]
     },
     "execution_count": 6,
     "metadata": {},
     "output_type": "execute_result"
    }
   ],
   "source": [
    "testDF.head()"
   ]
  },
  {
   "cell_type": "markdown",
   "metadata": {},
   "source": [
    "# Percentage of Survives by Gender"
   ]
  },
  {
   "cell_type": "code",
   "execution_count": 7,
   "metadata": {},
   "outputs": [
    {
     "data": {
      "text/plain": [
       "Survived  Sex   \n",
       "0         female    14.754098\n",
       "          male      85.245902\n",
       "1         female    68.128655\n",
       "          male      31.871345\n",
       "Name: Sex, dtype: float64"
      ]
     },
     "execution_count": 7,
     "metadata": {},
     "output_type": "execute_result"
    }
   ],
   "source": [
    "#Group by Survived\n",
    "survivedDF = trainDF.groupby([\"Survived\"])\n",
    "survivedBySexDF = survivedDF[\"Sex\"].value_counts()\n",
    "\n",
    "#Total Number of People by Survival\n",
    "survivedCountsDF = trainDF.groupby([\"Survived\"]).count()[\"Sex\"]\n",
    "survivedCountsDF\n",
    "\n",
    "#Get Percentages of Gender by Survival\n",
    "percentageSurvivedDF = (survivedBySexDF/survivedCountsDF)*100\n",
    "percentageSurvivedDF.sort_index(inplace=True)\n",
    "percentageSurvivedDF.head()"
   ]
  },
  {
   "cell_type": "code",
   "execution_count": 8,
   "metadata": {},
   "outputs": [],
   "source": [
    "#Pie Chart Color\n",
    "colors = [\"lightcoral\", \"Deepskyblue\"]"
   ]
  },
  {
   "cell_type": "code",
   "execution_count": 9,
   "metadata": {},
   "outputs": [
    {
     "data": {
      "text/plain": [
       "Text(0, 0.5, 'Percentage Died')"
      ]
     },
     "execution_count": 9,
     "metadata": {},
     "output_type": "execute_result"
    },
    {
     "data": {
      "image/png": "[encoded data removed]",
      "text/plain": [
       "<Figure size 360x360 with 1 Axes>"
      ]
     },
     "metadata": {},
     "output_type": "display_data"
    }
   ],
   "source": [
    "#Pie Chart for Percentage of Gender Died\n",
    "diedPlot = percentageSurvivedDF.loc[0].plot.pie(figsize=(5,5), autopct=\"%1.1f%%\", colors=colors)\n",
    "diedPlot.set_title(\"Percentage of Male and Female Died\")\n",
    "diedPlot.set_xlabel(\"Gender\")\n",
    "diedPlot.set_ylabel(\"Percentage Died\")"
   ]
  },
  {
   "cell_type": "code",
   "execution_count": 10,
   "metadata": {},
   "outputs": [
    {
     "data": {
      "text/plain": [
       "Text(0, 0.5, 'Percentage Survived')"
      ]
     },
     "execution_count": 10,
     "metadata": {},
     "output_type": "execute_result"
    },
    {
     "data": {
      "image/png": "[encoded data removed]",
      "text/plain": [
       "<Figure size 360x360 with 1 Axes>"
      ]
     },
     "metadata": {},
     "output_type": "display_data"
    }
   ],
   "source": [
    "#Pie Chart for Percentage of Gender Survived\n",
    "survivedPlot = percentageSurvivedDF.loc[1].plot.pie(figsize=(5,5), autopct=\"%1.1f%%\", colors=colors)\n",
    "survivedPlot.set_title(\"Percentage of Male and Female Survived\")\n",
    "survivedPlot.set_xlabel(\"Gender\")\n",
    "survivedPlot.set_ylabel(\"Percentage Survived\")"
   ]
  },
  {
   "cell_type": "code",
   "execution_count": 11,
   "metadata": {},
   "outputs": [
    {
     "data": {
      "image/png": "[encoded data removed]",
      "text/plain": [
       "<Figure size 432x288 with 1 Axes>"
      ]
     },
     "metadata": {},
     "output_type": "display_data"
    }
   ],
   "source": [
    "width = 0.20# the width of the bars\n",
    "ind = numpy.arange(3)\n",
    "\n",
    "survivedDF = trainDF[trainDF[\"Survived\"] == 0]\n",
    "survivedMaleDF = survivedDF[survivedDF[\"Sex\"] == \"male\"]\n",
    "survivedFemaleDF = survivedDF[survivedDF[\"Sex\"] == \"female\"]\n",
    "\n",
    "fig, ax = plt.subplots()\n",
    "malePclassDF = survivedMaleDF.groupby([\"Pclass\"])[\"Name\"].count()\n",
    "femalePclassDF = survivedFemaleDF.groupby([\"Pclass\"])[\"Name\"].count()\n",
    "ax.bar(ind - width/2, malePclassDF, width, color=\"Deepskyblue\")\n",
    "ax.bar(ind + width/2, femalePclassDF, width, color=\"lightcoral\")\n",
    "ax.set_xticks(ind)\n",
    "ax.set_xticklabels(('1', '2', \"3\"))\n",
    "ax.set_xlabel(\"Pclass\")\n",
    "ax.set_ylabel(\"Number of People\")\n",
    "plt.show()"
   ]
  },
  {
   "cell_type": "code",
   "execution_count": 12,
   "metadata": {},
   "outputs": [
    {
     "data": {
      "image/png": "[encoded data removed]",
      "text/plain": [
       "<Figure size 432x288 with 1 Axes>"
      ]
     },
     "metadata": {},
     "output_type": "display_data"
    }
   ],
   "source": [
    "survivedDF = trainDF[trainDF[\"Survived\"] == 1]\n",
    "survivedMaleDF = survivedDF[survivedDF[\"Sex\"] == \"male\"]\n",
    "survivedFemaleDF = survivedDF[survivedDF[\"Sex\"] == \"female\"]\n",
    "\n",
    "fig, ax = plt.subplots()\n",
    "malePclassDF = survivedMaleDF.groupby([\"Pclass\"])[\"Name\"].count()\n",
    "femalePclassDF = survivedFemaleDF.groupby([\"Pclass\"])[\"Name\"].count()\n",
    "ax.bar(ind - width/2, malePclassDF, width, color=\"Deepskyblue\")\n",
    "ax.bar(ind + width/2, femalePclassDF, width, color=\"lightcoral\")\n",
    "ax.set_xticks(ind)\n",
    "ax.set_xticklabels(('1', '2', \"3\"))\n",
    "ax.set_xlabel(\"Pclass\")\n",
    "ax.set_ylabel(\"Number of People\")\n",
    "plt.show()"
   ]
  },
  {
   "cell_type": "markdown",
   "metadata": {},
   "source": [
    "# Merge Training and Testing Data"
   ]
  },
  {
   "cell_type": "code",
   "execution_count": 13,
   "metadata": {},
   "outputs": [
    {
     "data": {
      "text/html": [
       "<div>\n",
       "<style scoped>\n",
       "    .dataframe tbody tr th:only-of-type {\n",
       "        vertical-align: middle;\n",
       "    }\n",
       "\n",
       "    .dataframe tbody tr th {\n",
       "        vertical-align: top;\n",
       "    }\n",
       "\n",
       "    .dataframe thead th {\n",
       "        text-align: right;\n",
       "    }\n",
       "</style>\n",
       "<table border=\"1\" class=\"dataframe\">\n",
       "  <thead>\n",
       "    <tr style=\"text-align: right;\">\n",
       "      <th></th>\n",
       "      <th>PassengerId</th>\n",
       "      <th>Pclass</th>\n",
       "      <th>Name</th>\n",
       "      <th>Sex</th>\n",
       "      <th>Age</th>\n",
       "      <th>SibSp</th>\n",
       "      <th>Parch</th>\n",
       "      <th>Ticket</th>\n",
       "      <th>Fare</th>\n",
       "      <th>Cabin</th>\n",
       "      <th>Embarked</th>\n",
       "      <th>Dataset</th>\n",
       "    </tr>\n",
       "  </thead>\n",
       "  <tbody>\n",
       "    <tr>\n",
       "      <th>0</th>\n",
       "      <td>1</td>\n",
       "      <td>3</td>\n",
       "      <td>Braund, Mr. Owen Harris</td>\n",
       "      <td>male</td>\n",
       "      <td>22.0</td>\n",
       "      <td>1</td>\n",
       "      <td>0</td>\n",
       "      <td>A/5 21171</td>\n",
       "      <td>7.2500</td>\n",
       "      <td>NaN</td>\n",
       "      <td>S</td>\n",
       "      <td>Train</td>\n",
       "    </tr>\n",
       "    <tr>\n",
       "      <th>1</th>\n",
       "      <td>2</td>\n",
       "      <td>1</td>\n",
       "      <td>Cumings, Mrs. John Bradley (Florence Briggs Th...</td>\n",
       "      <td>female</td>\n",
       "      <td>38.0</td>\n",
       "      <td>1</td>\n",
       "      <td>0</td>\n",
       "      <td>PC 17599</td>\n",
       "      <td>71.2833</td>\n",
       "      <td>C85</td>\n",
       "      <td>C</td>\n",
       "      <td>Train</td>\n",
       "    </tr>\n",
       "    <tr>\n",
       "      <th>2</th>\n",
       "      <td>3</td>\n",
       "      <td>3</td>\n",
       "      <td>Heikkinen, Miss. Laina</td>\n",
       "      <td>female</td>\n",
       "      <td>26.0</td>\n",
       "      <td>0</td>\n",
       "      <td>0</td>\n",
       "      <td>STON/O2. 3101282</td>\n",
       "      <td>7.9250</td>\n",
       "      <td>NaN</td>\n",
       "      <td>S</td>\n",
       "      <td>Train</td>\n",
       "    </tr>\n",
       "    <tr>\n",
       "      <th>3</th>\n",
       "      <td>4</td>\n",
       "      <td>1</td>\n",
       "      <td>Futrelle, Mrs. Jacques Heath (Lily May Peel)</td>\n",
       "      <td>female</td>\n",
       "      <td>35.0</td>\n",
       "      <td>1</td>\n",
       "      <td>0</td>\n",
       "      <td>113803</td>\n",
       "      <td>53.1000</td>\n",
       "      <td>C123</td>\n",
       "      <td>S</td>\n",
       "      <td>Train</td>\n",
       "    </tr>\n",
       "    <tr>\n",
       "      <th>4</th>\n",
       "      <td>5</td>\n",
       "      <td>3</td>\n",
       "      <td>Allen, Mr. William Henry</td>\n",
       "      <td>male</td>\n",
       "      <td>35.0</td>\n",
       "      <td>0</td>\n",
       "      <td>0</td>\n",
       "      <td>373450</td>\n",
       "      <td>8.0500</td>\n",
       "      <td>NaN</td>\n",
       "      <td>S</td>\n",
       "      <td>Train</td>\n",
       "    </tr>\n",
       "  </tbody>\n",
       "</table>\n",
       "</div>"
      ],
      "text/plain": [
       "   PassengerId  Pclass                                               Name  \\\n",
       "0            1       3                            Braund, Mr. Owen Harris   \n",
       "1            2       1  Cumings, Mrs. John Bradley (Florence Briggs Th...   \n",
       "2            3       3                             Heikkinen, Miss. Laina   \n",
       "3            4       1       Futrelle, Mrs. Jacques Heath (Lily May Peel)   \n",
       "4            5       3                           Allen, Mr. William Henry   \n",
       "\n",
       "      Sex   Age  SibSp  Parch            Ticket     Fare Cabin Embarked  \\\n",
       "0    male  22.0      1      0         A/5 21171   7.2500   NaN        S   \n",
       "1  female  38.0      1      0          PC 17599  71.2833   C85        C   \n",
       "2  female  26.0      0      0  STON/O2. 3101282   7.9250   NaN        S   \n",
       "3  female  35.0      1      0            113803  53.1000  C123        S   \n",
       "4    male  35.0      0      0            373450   8.0500   NaN        S   \n",
       "\n",
       "  Dataset  \n",
       "0   Train  \n",
       "1   Train  \n",
       "2   Train  \n",
       "3   Train  \n",
       "4   Train  "
      ]
     },
     "execution_count": 13,
     "metadata": {},
     "output_type": "execute_result"
    }
   ],
   "source": [
    "#Drop Survived Column\n",
    "cleanTrainDF = trainDF.drop(columns=[\"Survived\"])\n",
    "\n",
    "#Copy Testing Dataset\n",
    "cleanTestDF = testDF.copy()\n",
    "\n",
    "#Add Dataset label\n",
    "cleanTrainDF[\"Dataset\"] = \"Train\"\n",
    "cleanTestDF[\"Dataset\"] = \"Test\"\n",
    "\n",
    "#Combine Training and Testing Dataset\n",
    "combinedDF = pandas.concat([cleanTrainDF, cleanTestDF], sort=False)\n",
    "combinedDF.reset_index(inplace=True)\n",
    "combinedDF.drop(columns=[\"index\"], inplace=True)\n",
    "combinedDF.head()"
   ]
  },
  {
   "cell_type": "markdown",
   "metadata": {},
   "source": [
    "# Clean up Data"
   ]
  },
  {
   "cell_type": "markdown",
   "metadata": {},
   "source": [
    "If the age does not exists for passenger replace it with that gender's mean age"
   ]
  },
  {
   "cell_type": "code",
   "execution_count": 14,
   "metadata": {},
   "outputs": [
    {
     "data": {
      "text/plain": [
       "PassengerId       0\n",
       "Pclass            0\n",
       "Name              0\n",
       "Sex               0\n",
       "Age             263\n",
       "SibSp             0\n",
       "Parch             0\n",
       "Ticket            0\n",
       "Fare              1\n",
       "Cabin          1014\n",
       "Embarked          2\n",
       "Dataset           0\n",
       "dtype: int64"
      ]
     },
     "execution_count": 14,
     "metadata": {},
     "output_type": "execute_result"
    }
   ],
   "source": [
    "combinedDF.isnull().sum()"
   ]
  },
  {
   "cell_type": "code",
   "execution_count": 15,
   "metadata": {},
   "outputs": [],
   "source": [
    "#Get Mean Age for male and fmeale\n",
    "meanAge = combinedDF.groupby([\"Sex\"]).mean()[\"Age\"]\n",
    "meanFemaleAge = meanAge[\"female\"]\n",
    "meanMaleAge = meanAge[\"male\"]\n",
    "\n",
    "def MeanAge(row):\n",
    "    \"\"\"\n",
    "    If age is not a number, replace with that passenger's gender's median age\n",
    "    \"\"\"\n",
    "    if(pandas.isna(row[\"Age\"])):\n",
    "        if(row[\"Sex\"] == \"female\"):\n",
    "            return meanFemaleAge\n",
    "        else:\n",
    "            return meanMaleAge\n",
    "    else:\n",
    "        return row[\"Age\"]\n",
    "    \n",
    "combinedDF[\"Age\"] = combinedDF.apply(MeanAge, axis=1)    "
   ]
  },
  {
   "cell_type": "code",
   "execution_count": null,
   "metadata": {},
   "outputs": [],
   "source": []
  },
  {
   "cell_type": "markdown",
   "metadata": {},
   "source": [
    "If Embarked is "
   ]
  },
  {
   "cell_type": "code",
   "execution_count": 16,
   "metadata": {},
   "outputs": [
    {
     "data": {
      "text/plain": [
       "array(['S', 'C', 'Q', nan], dtype=object)"
      ]
     },
     "execution_count": 16,
     "metadata": {},
     "output_type": "execute_result"
    }
   ],
   "source": [
    "trainDF[\"Embarked\"].unique()"
   ]
  },
  {
   "cell_type": "code",
   "execution_count": 17,
   "metadata": {},
   "outputs": [],
   "source": [
    "combinedDF[\"Embarked\"] = combinedDF[\"Embarked\"].fillna(\"X\")\n",
    "embarkedMap = {\"S\": 0, \"C\": 1, \"Q\":2, \"X\":3}\n",
    "combinedDF[\"EmbarkedMap\"] = combinedDF[\"Embarked\"].map(lambda x: \"X\" if(pandas.isna(x)) else x)\n"
   ]
  },
  {
   "cell_type": "code",
   "execution_count": 18,
   "metadata": {},
   "outputs": [],
   "source": [
    "combinedDF[\"Cabin\"] = combinedDF[\"Cabin\"].fillna(\"X\")\n",
    "combinedDF[\"Cabin Letter\"] = combinedDF[combinedDF[\"Cabin\"].notnull()][\"Cabin\"].astype(str).str[0]"
   ]
  },
  {
   "cell_type": "code",
   "execution_count": 19,
   "metadata": {},
   "outputs": [
    {
     "data": {
      "text/plain": [
       "X    1014\n",
       "C      94\n",
       "B      65\n",
       "D      46\n",
       "E      41\n",
       "A      22\n",
       "F      21\n",
       "G       5\n",
       "T       1\n",
       "Name: Cabin Letter, dtype: int64"
      ]
     },
     "execution_count": 19,
     "metadata": {},
     "output_type": "execute_result"
    }
   ],
   "source": [
    "combinedDF[\"Cabin Letter\"].value_counts()"
   ]
  },
  {
   "cell_type": "code",
   "execution_count": 20,
   "metadata": {},
   "outputs": [
    {
     "data": {
      "text/plain": [
       "<matplotlib.axes._subplots.AxesSubplot at 0x105a45400>"
      ]
     },
     "execution_count": 20,
     "metadata": {},
     "output_type": "execute_result"
    },
    {
     "data": {
      "image/png": "[encoded data removed]",
      "text/plain": [
       "<Figure size 432x288 with 1 Axes>"
      ]
     },
     "metadata": {},
     "output_type": "display_data"
    }
   ],
   "source": [
    "combinedDF[\"Cabin Letter\"].value_counts().plot(kind=\"bar\")"
   ]
  },
  {
   "cell_type": "code",
   "execution_count": 21,
   "metadata": {},
   "outputs": [
    {
     "data": {
      "text/plain": [
       "<matplotlib.axes._subplots.AxesSubplot at 0x1a13554dd8>"
      ]
     },
     "execution_count": 21,
     "metadata": {},
     "output_type": "execute_result"
    },
    {
     "data": {
      "image/png": "[encoded data removed]",
      "text/plain": [
       "<Figure size 432x288 with 1 Axes>"
      ]
     },
     "metadata": {},
     "output_type": "display_data"
    }
   ],
   "source": [
    "trainDF.groupby([\"Survived\"]).count()[\"Name\"].plot.bar(rot=0)"
   ]
  },
  {
   "cell_type": "code",
   "execution_count": 22,
   "metadata": {},
   "outputs": [
    {
     "data": {
      "text/plain": [
       "array(['S', 'C', 'Q', nan], dtype=object)"
      ]
     },
     "execution_count": 22,
     "metadata": {},
     "output_type": "execute_result"
    }
   ],
   "source": [
    "trainDF[\"Embarked\"].unique()"
   ]
  },
  {
   "cell_type": "code",
   "execution_count": 23,
   "metadata": {},
   "outputs": [
    {
     "data": {
      "text/plain": [
       "array([3, 1, 2])"
      ]
     },
     "execution_count": 23,
     "metadata": {},
     "output_type": "execute_result"
    }
   ],
   "source": [
    "trainDF[\"Pclass\"].unique()"
   ]
  },
  {
   "cell_type": "code",
   "execution_count": 24,
   "metadata": {},
   "outputs": [
    {
     "data": {
      "text/plain": [
       "array(['male', 'female'], dtype=object)"
      ]
     },
     "execution_count": 24,
     "metadata": {},
     "output_type": "execute_result"
    }
   ],
   "source": [
    "trainDF[\"Sex\"].unique()"
   ]
  },
  {
   "cell_type": "code",
   "execution_count": 25,
   "metadata": {},
   "outputs": [
    {
     "data": {
      "text/plain": [
       "array([ 22.  ,  38.  ,  26.  ,  35.  ,    nan,  54.  ,   2.  ,  27.  ,\n",
       "        14.  ,   4.  ,  58.  ,  20.  ,  39.  ,  55.  ,  31.  ,  34.  ,\n",
       "        15.  ,  28.  ,   8.  ,  19.  ,  40.  ,  66.  ,  42.  ,  21.  ,\n",
       "        18.  ,   3.  ,   7.  ,  49.  ,  29.  ,  65.  ,  28.5 ,   5.  ,\n",
       "        11.  ,  45.  ,  17.  ,  32.  ,  16.  ,  25.  ,   0.83,  30.  ,\n",
       "        33.  ,  23.  ,  24.  ,  46.  ,  59.  ,  71.  ,  37.  ,  47.  ,\n",
       "        14.5 ,  70.5 ,  32.5 ,  12.  ,   9.  ,  36.5 ,  51.  ,  55.5 ,\n",
       "        40.5 ,  44.  ,   1.  ,  61.  ,  56.  ,  50.  ,  36.  ,  45.5 ,\n",
       "        20.5 ,  62.  ,  41.  ,  52.  ,  63.  ,  23.5 ,   0.92,  43.  ,\n",
       "        60.  ,  10.  ,  64.  ,  13.  ,  48.  ,   0.75,  53.  ,  57.  ,\n",
       "        80.  ,  70.  ,  24.5 ,   6.  ,   0.67,  30.5 ,   0.42,  34.5 ,  74.  ])"
      ]
     },
     "execution_count": 25,
     "metadata": {},
     "output_type": "execute_result"
    }
   ],
   "source": [
    "trainDF[\"Age\"].unique()"
   ]
  },
  {
   "cell_type": "code",
   "execution_count": 26,
   "metadata": {},
   "outputs": [
    {
     "data": {
      "text/plain": [
       "array(['A/5 21171', 'PC 17599', 'STON/O2. 3101282', '113803', '373450',\n",
       "       '330877', '17463', '349909', '347742', '237736', 'PP 9549',\n",
       "       '113783', 'A/5. 2151', '347082', '350406', '248706', '382652',\n",
       "       '244373', '345763', '2649', '239865', '248698', '330923', '113788',\n",
       "       '347077', '2631', '19950', '330959', '349216', 'PC 17601',\n",
       "       'PC 17569', '335677', 'C.A. 24579', 'PC 17604', '113789', '2677',\n",
       "       'A./5. 2152', '345764', '2651', '7546', '11668', '349253',\n",
       "       'SC/Paris 2123', '330958', 'S.C./A.4. 23567', '370371', '14311',\n",
       "       '2662', '349237', '3101295', 'A/4. 39886', 'PC 17572', '2926',\n",
       "       '113509', '19947', 'C.A. 31026', '2697', 'C.A. 34651', 'CA 2144',\n",
       "       '2669', '113572', '36973', '347088', 'PC 17605', '2661',\n",
       "       'C.A. 29395', 'S.P. 3464', '3101281', '315151', 'C.A. 33111',\n",
       "       'S.O.C. 14879', '2680', '1601', '348123', '349208', '374746',\n",
       "       '248738', '364516', '345767', '345779', '330932', '113059',\n",
       "       'SO/C 14885', '3101278', 'W./C. 6608', 'SOTON/OQ 392086', '343275',\n",
       "       '343276', '347466', 'W.E.P. 5734', 'C.A. 2315', '364500', '374910',\n",
       "       'PC 17754', 'PC 17759', '231919', '244367', '349245', '349215',\n",
       "       '35281', '7540', '3101276', '349207', '343120', '312991', '349249',\n",
       "       '371110', '110465', '2665', '324669', '4136', '2627',\n",
       "       'STON/O 2. 3101294', '370369', 'PC 17558', 'A4. 54510', '27267',\n",
       "       '370372', 'C 17369', '2668', '347061', '349241',\n",
       "       'SOTON/O.Q. 3101307', 'A/5. 3337', '228414', 'C.A. 29178',\n",
       "       'SC/PARIS 2133', '11752', '7534', 'PC 17593', '2678', '347081',\n",
       "       'STON/O2. 3101279', '365222', '231945', 'C.A. 33112', '350043',\n",
       "       '230080', '244310', 'S.O.P. 1166', '113776', 'A.5. 11206',\n",
       "       'A/5. 851', 'Fa 265302', 'PC 17597', '35851', 'SOTON/OQ 392090',\n",
       "       '315037', 'CA. 2343', '371362', 'C.A. 33595', '347068', '315093',\n",
       "       '363291', '113505', 'PC 17318', '111240', 'STON/O 2. 3101280',\n",
       "       '17764', '350404', '4133', 'PC 17595', '250653', 'LINE',\n",
       "       'SC/PARIS 2131', '230136', '315153', '113767', '370365', '111428',\n",
       "       '364849', '349247', '234604', '28424', '350046', 'PC 17610',\n",
       "       '368703', '4579', '370370', '248747', '345770', '3101264', '2628',\n",
       "       'A/5 3540', '347054', '2699', '367231', '112277',\n",
       "       'SOTON/O.Q. 3101311', 'F.C.C. 13528', 'A/5 21174', '250646',\n",
       "       '367229', '35273', 'STON/O2. 3101283', '243847', '11813',\n",
       "       'W/C 14208', 'SOTON/OQ 392089', '220367', '21440', '349234',\n",
       "       '19943', 'PP 4348', 'SW/PP 751', 'A/5 21173', '236171', '347067',\n",
       "       '237442', 'C.A. 29566', 'W./C. 6609', '26707', 'C.A. 31921',\n",
       "       '28665', 'SCO/W 1585', '367230', 'W./C. 14263', 'STON/O 2. 3101275',\n",
       "       '2694', '19928', '347071', '250649', '11751', '244252', '362316',\n",
       "       '113514', 'A/5. 3336', '370129', '2650', 'PC 17585', '110152',\n",
       "       'PC 17755', '230433', '384461', '110413', '112059', '382649',\n",
       "       'C.A. 17248', '347083', 'PC 17582', 'PC 17760', '113798', '250644',\n",
       "       'PC 17596', '370375', '13502', '347073', '239853', 'C.A. 2673',\n",
       "       '336439', '347464', '345778', 'A/5. 10482', '113056', '349239',\n",
       "       '345774', '349206', '237798', '370373', '19877', '11967',\n",
       "       'SC/Paris 2163', '349236', '349233', 'PC 17612', '2693', '113781',\n",
       "       '19988', '9234', '367226', '226593', 'A/5 2466', '17421',\n",
       "       'PC 17758', 'P/PP 3381', 'PC 17485', '11767', 'PC 17608', '250651',\n",
       "       '349243', 'F.C.C. 13529', '347470', '29011', '36928', '16966',\n",
       "       'A/5 21172', '349219', '234818', '345364', '28551', '111361',\n",
       "       '113043', 'PC 17611', '349225', '7598', '113784', '248740',\n",
       "       '244361', '229236', '248733', '31418', '386525', 'C.A. 37671',\n",
       "       '315088', '7267', '113510', '2695', '2647', '345783', '237671',\n",
       "       '330931', '330980', 'SC/PARIS 2167', '2691', 'SOTON/O.Q. 3101310',\n",
       "       'C 7076', '110813', '2626', '14313', 'PC 17477', '11765', '3101267',\n",
       "       '323951', 'C 7077', '113503', '2648', '347069', 'PC 17757', '2653',\n",
       "       'STON/O 2. 3101293', '349227', '27849', '367655', 'SC 1748',\n",
       "       '113760', '350034', '3101277', '350052', '350407', '28403',\n",
       "       '244278', '240929', 'STON/O 2. 3101289', '341826', '4137', '315096',\n",
       "       '28664', '347064', '29106', '312992', '349222', '394140',\n",
       "       'STON/O 2. 3101269', '343095', '28220', '250652', '28228', '345773',\n",
       "       '349254', 'A/5. 13032', '315082', '347080', 'A/4. 34244', '2003',\n",
       "       '250655', '364851', 'SOTON/O.Q. 392078', '110564', '376564',\n",
       "       'SC/AH 3085', 'STON/O 2. 3101274', '13507', 'C.A. 18723', '345769',\n",
       "       '347076', '230434', '65306', '33638', '113794', '2666', '113786',\n",
       "       '65303', '113051', '17453', 'A/5 2817', '349240', '13509', '17464',\n",
       "       'F.C.C. 13531', '371060', '19952', '364506', '111320', '234360',\n",
       "       'A/S 2816', 'SOTON/O.Q. 3101306', '113792', '36209', '323592',\n",
       "       '315089', 'SC/AH Basle 541', '7553', '31027', '3460', '350060',\n",
       "       '3101298', '239854', 'A/5 3594', '4134', '11771', 'A.5. 18509',\n",
       "       '65304', 'SOTON/OQ 3101317', '113787', 'PC 17609', 'A/4 45380',\n",
       "       '36947', 'C.A. 6212', '350035', '315086', '364846', '330909',\n",
       "       '4135', '26360', '111427', 'C 4001', '382651', 'SOTON/OQ 3101316',\n",
       "       'PC 17473', 'PC 17603', '349209', '36967', 'C.A. 34260', '226875',\n",
       "       '349242', '12749', '349252', '2624', '2700', '367232',\n",
       "       'W./C. 14258', 'PC 17483', '3101296', '29104', '2641', '2690',\n",
       "       '315084', '113050', 'PC 17761', '364498', '13568', 'WE/P 5735',\n",
       "       '2908', '693', 'SC/PARIS 2146', '244358', '330979', '2620',\n",
       "       '347085', '113807', '11755', '345572', '372622', '349251', '218629',\n",
       "       'SOTON/OQ 392082', 'SOTON/O.Q. 392087', 'A/4 48871', '349205',\n",
       "       '2686', '350417', 'S.W./PP 752', '11769', 'PC 17474', '14312',\n",
       "       'A/4. 20589', '358585', '243880', '2689', 'STON/O 2. 3101286',\n",
       "       '237789', '13049', '3411', '237565', '13567', '14973', 'A./5. 3235',\n",
       "       'STON/O 2. 3101273', 'A/5 3902', '364848', 'SC/AH 29037', '248727',\n",
       "       '2664', '349214', '113796', '364511', '111426', '349910', '349246',\n",
       "       '113804', 'SOTON/O.Q. 3101305', '370377', '364512', '220845',\n",
       "       '31028', '2659', '11753', '350029', '54636', '36963', '219533',\n",
       "       '349224', '334912', '27042', '347743', '13214', '112052', '237668',\n",
       "       'STON/O 2. 3101292', '350050', '349231', '13213', 'S.O./P.P. 751',\n",
       "       'CA. 2314', '349221', '8475', '330919', '365226', '349223', '29751',\n",
       "       '2623', '5727', '349210', 'STON/O 2. 3101285', '234686', '312993',\n",
       "       'A/5 3536', '19996', '29750', 'F.C. 12750', 'C.A. 24580', '244270',\n",
       "       '239856', '349912', '342826', '4138', '330935', '6563', '349228',\n",
       "       '350036', '24160', '17474', '349256', '2672', '113800', '248731',\n",
       "       '363592', '35852', '348121', 'PC 17475', '36864', '350025',\n",
       "       '223596', 'PC 17476', 'PC 17482', '113028', '7545', '250647',\n",
       "       '348124', '34218', '36568', '347062', '350048', '12233', '250643',\n",
       "       '113806', '315094', '36866', '236853', 'STON/O2. 3101271', '239855',\n",
       "       '28425', '233639', '349201', '349218', '16988', '376566',\n",
       "       'STON/O 2. 3101288', '250648', '113773', '335097', '29103',\n",
       "       '392096', '345780', '349204', '350042', '29108', '363294',\n",
       "       'SOTON/O2 3101272', '2663', '347074', '112379', '364850', '8471',\n",
       "       '345781', '350047', 'S.O./P.P. 3', '2674', '29105', '347078',\n",
       "       '383121', '36865', '2687', '113501', 'W./C. 6607',\n",
       "       'SOTON/O.Q. 3101312', '374887', '3101265', '12460', 'PC 17600',\n",
       "       '349203', '28213', '17465', '349244', '2685', '2625', '347089',\n",
       "       '347063', '112050', '347087', '248723', '3474', '28206', '364499',\n",
       "       '112058', 'STON/O2. 3101290', 'S.C./PARIS 2079', 'C 7075', '315098',\n",
       "       '19972', '368323', '367228', '2671', '347468', '2223', 'PC 17756',\n",
       "       '315097', '392092', '11774', 'SOTON/O2 3101287', '2683', '315090',\n",
       "       'C.A. 5547', '349213', '347060', 'PC 17592', '392091', '113055',\n",
       "       '2629', '350026', '28134', '17466', '233866', '236852',\n",
       "       'SC/PARIS 2149', 'PC 17590', '345777', '349248', '695', '345765',\n",
       "       '2667', '349212', '349217', '349257', '7552', 'C.A./SOTON 34068',\n",
       "       'SOTON/OQ 392076', '211536', '112053', '111369', '370376'], dtype=object)"
      ]
     },
     "execution_count": 26,
     "metadata": {},
     "output_type": "execute_result"
    }
   ],
   "source": [
    "trainDF[\"Ticket\"].unique()"
   ]
  },
  {
   "cell_type": "code",
   "execution_count": 27,
   "metadata": {},
   "outputs": [
    {
     "data": {
      "text/html": [
       "<div>\n",
       "<style scoped>\n",
       "    .dataframe tbody tr th:only-of-type {\n",
       "        vertical-align: middle;\n",
       "    }\n",
       "\n",
       "    .dataframe tbody tr th {\n",
       "        vertical-align: top;\n",
       "    }\n",
       "\n",
       "    .dataframe thead th {\n",
       "        text-align: right;\n",
       "    }\n",
       "</style>\n",
       "<table border=\"1\" class=\"dataframe\">\n",
       "  <thead>\n",
       "    <tr style=\"text-align: right;\">\n",
       "      <th></th>\n",
       "      <th>PassengerId</th>\n",
       "      <th>Survived</th>\n",
       "      <th>Pclass</th>\n",
       "      <th>Name</th>\n",
       "      <th>Sex</th>\n",
       "      <th>Age</th>\n",
       "      <th>SibSp</th>\n",
       "      <th>Parch</th>\n",
       "      <th>Ticket</th>\n",
       "      <th>Fare</th>\n",
       "      <th>Cabin</th>\n",
       "      <th>Embarked</th>\n",
       "    </tr>\n",
       "  </thead>\n",
       "  <tbody>\n",
       "    <tr>\n",
       "      <th>0</th>\n",
       "      <td>1</td>\n",
       "      <td>0</td>\n",
       "      <td>3</td>\n",
       "      <td>Braund, Mr. Owen Harris</td>\n",
       "      <td>male</td>\n",
       "      <td>22.0</td>\n",
       "      <td>1</td>\n",
       "      <td>0</td>\n",
       "      <td>A/5 21171</td>\n",
       "      <td>7.2500</td>\n",
       "      <td>NaN</td>\n",
       "      <td>S</td>\n",
       "    </tr>\n",
       "    <tr>\n",
       "      <th>1</th>\n",
       "      <td>2</td>\n",
       "      <td>1</td>\n",
       "      <td>1</td>\n",
       "      <td>Cumings, Mrs. John Bradley (Florence Briggs Th...</td>\n",
       "      <td>female</td>\n",
       "      <td>38.0</td>\n",
       "      <td>1</td>\n",
       "      <td>0</td>\n",
       "      <td>PC 17599</td>\n",
       "      <td>71.2833</td>\n",
       "      <td>C85</td>\n",
       "      <td>C</td>\n",
       "    </tr>\n",
       "    <tr>\n",
       "      <th>2</th>\n",
       "      <td>3</td>\n",
       "      <td>1</td>\n",
       "      <td>3</td>\n",
       "      <td>Heikkinen, Miss. Laina</td>\n",
       "      <td>female</td>\n",
       "      <td>26.0</td>\n",
       "      <td>0</td>\n",
       "      <td>0</td>\n",
       "      <td>STON/O2. 3101282</td>\n",
       "      <td>7.9250</td>\n",
       "      <td>NaN</td>\n",
       "      <td>S</td>\n",
       "    </tr>\n",
       "    <tr>\n",
       "      <th>3</th>\n",
       "      <td>4</td>\n",
       "      <td>1</td>\n",
       "      <td>1</td>\n",
       "      <td>Futrelle, Mrs. Jacques Heath (Lily May Peel)</td>\n",
       "      <td>female</td>\n",
       "      <td>35.0</td>\n",
       "      <td>1</td>\n",
       "      <td>0</td>\n",
       "      <td>113803</td>\n",
       "      <td>53.1000</td>\n",
       "      <td>C123</td>\n",
       "      <td>S</td>\n",
       "    </tr>\n",
       "    <tr>\n",
       "      <th>4</th>\n",
       "      <td>5</td>\n",
       "      <td>0</td>\n",
       "      <td>3</td>\n",
       "      <td>Allen, Mr. William Henry</td>\n",
       "      <td>male</td>\n",
       "      <td>35.0</td>\n",
       "      <td>0</td>\n",
       "      <td>0</td>\n",
       "      <td>373450</td>\n",
       "      <td>8.0500</td>\n",
       "      <td>NaN</td>\n",
       "      <td>S</td>\n",
       "    </tr>\n",
       "  </tbody>\n",
       "</table>\n",
       "</div>"
      ],
      "text/plain": [
       "   PassengerId  Survived  Pclass  \\\n",
       "0            1         0       3   \n",
       "1            2         1       1   \n",
       "2            3         1       3   \n",
       "3            4         1       1   \n",
       "4            5         0       3   \n",
       "\n",
       "                                                Name     Sex   Age  SibSp  \\\n",
       "0                            Braund, Mr. Owen Harris    male  22.0      1   \n",
       "1  Cumings, Mrs. John Bradley (Florence Briggs Th...  female  38.0      1   \n",
       "2                             Heikkinen, Miss. Laina  female  26.0      0   \n",
       "3       Futrelle, Mrs. Jacques Heath (Lily May Peel)  female  35.0      1   \n",
       "4                           Allen, Mr. William Henry    male  35.0      0   \n",
       "\n",
       "   Parch            Ticket     Fare Cabin Embarked  \n",
       "0      0         A/5 21171   7.2500   NaN        S  \n",
       "1      0          PC 17599  71.2833   C85        C  \n",
       "2      0  STON/O2. 3101282   7.9250   NaN        S  \n",
       "3      0            113803  53.1000  C123        S  \n",
       "4      0            373450   8.0500   NaN        S  "
      ]
     },
     "execution_count": 27,
     "metadata": {},
     "output_type": "execute_result"
    }
   ],
   "source": [
    "trainDF.head()"
   ]
  },
  {
   "cell_type": "code",
   "execution_count": 28,
   "metadata": {},
   "outputs": [],
   "source": [
    "trainDF[\"Gender\"] = trainDF.apply(lambda x: 0 if(x[\"Sex\"] == \"male\") else 1, axis=1)"
   ]
  },
  {
   "cell_type": "code",
   "execution_count": 29,
   "metadata": {},
   "outputs": [],
   "source": [
    "trainDF[\"Embarked\"].unique()\n",
    "trainDF[\"Embarked\"] = trainDF[\"Embarked\"].map(lambda x: \"X\" if(pandas.isna(x)) else x)\n",
    "trainDF[\"Embarked\"].unique()\n",
    "embarkedMap = {\"S\": 0, \"C\": 1, \"Q\":2, \"X\":3}\n",
    "trainDF[\"EmbarkedMap\"] = trainDF[\"Embarked\"].map(lambda x: \"X\" if(pandas.isna(x)) else x)"
   ]
  },
  {
   "cell_type": "code",
   "execution_count": 30,
   "metadata": {},
   "outputs": [
    {
     "data": {
      "text/html": [
       "<div>\n",
       "<style scoped>\n",
       "    .dataframe tbody tr th:only-of-type {\n",
       "        vertical-align: middle;\n",
       "    }\n",
       "\n",
       "    .dataframe tbody tr th {\n",
       "        vertical-align: top;\n",
       "    }\n",
       "\n",
       "    .dataframe thead th {\n",
       "        text-align: right;\n",
       "    }\n",
       "</style>\n",
       "<table border=\"1\" class=\"dataframe\">\n",
       "  <thead>\n",
       "    <tr style=\"text-align: right;\">\n",
       "      <th></th>\n",
       "      <th>PassengerId</th>\n",
       "      <th>Pclass</th>\n",
       "      <th>Age</th>\n",
       "      <th>SibSp</th>\n",
       "      <th>Parch</th>\n",
       "      <th>Fare</th>\n",
       "    </tr>\n",
       "  </thead>\n",
       "  <tbody>\n",
       "    <tr>\n",
       "      <th>count</th>\n",
       "      <td>1309.000000</td>\n",
       "      <td>1309.000000</td>\n",
       "      <td>1309.000000</td>\n",
       "      <td>1309.000000</td>\n",
       "      <td>1309.000000</td>\n",
       "      <td>1308.000000</td>\n",
       "    </tr>\n",
       "    <tr>\n",
       "      <th>mean</th>\n",
       "      <td>655.000000</td>\n",
       "      <td>2.294882</td>\n",
       "      <td>29.909496</td>\n",
       "      <td>0.498854</td>\n",
       "      <td>0.385027</td>\n",
       "      <td>33.295479</td>\n",
       "    </tr>\n",
       "    <tr>\n",
       "      <th>std</th>\n",
       "      <td>378.020061</td>\n",
       "      <td>0.837836</td>\n",
       "      <td>12.889182</td>\n",
       "      <td>1.041658</td>\n",
       "      <td>0.865560</td>\n",
       "      <td>51.758668</td>\n",
       "    </tr>\n",
       "    <tr>\n",
       "      <th>min</th>\n",
       "      <td>1.000000</td>\n",
       "      <td>1.000000</td>\n",
       "      <td>0.170000</td>\n",
       "      <td>0.000000</td>\n",
       "      <td>0.000000</td>\n",
       "      <td>0.000000</td>\n",
       "    </tr>\n",
       "    <tr>\n",
       "      <th>25%</th>\n",
       "      <td>328.000000</td>\n",
       "      <td>2.000000</td>\n",
       "      <td>22.000000</td>\n",
       "      <td>0.000000</td>\n",
       "      <td>0.000000</td>\n",
       "      <td>7.895800</td>\n",
       "    </tr>\n",
       "    <tr>\n",
       "      <th>50%</th>\n",
       "      <td>655.000000</td>\n",
       "      <td>3.000000</td>\n",
       "      <td>30.000000</td>\n",
       "      <td>0.000000</td>\n",
       "      <td>0.000000</td>\n",
       "      <td>14.454200</td>\n",
       "    </tr>\n",
       "    <tr>\n",
       "      <th>75%</th>\n",
       "      <td>982.000000</td>\n",
       "      <td>3.000000</td>\n",
       "      <td>35.000000</td>\n",
       "      <td>1.000000</td>\n",
       "      <td>0.000000</td>\n",
       "      <td>31.275000</td>\n",
       "    </tr>\n",
       "    <tr>\n",
       "      <th>max</th>\n",
       "      <td>1309.000000</td>\n",
       "      <td>3.000000</td>\n",
       "      <td>80.000000</td>\n",
       "      <td>8.000000</td>\n",
       "      <td>9.000000</td>\n",
       "      <td>512.329200</td>\n",
       "    </tr>\n",
       "  </tbody>\n",
       "</table>\n",
       "</div>"
      ],
      "text/plain": [
       "       PassengerId       Pclass          Age        SibSp        Parch  \\\n",
       "count  1309.000000  1309.000000  1309.000000  1309.000000  1309.000000   \n",
       "mean    655.000000     2.294882    29.909496     0.498854     0.385027   \n",
       "std     378.020061     0.837836    12.889182     1.041658     0.865560   \n",
       "min       1.000000     1.000000     0.170000     0.000000     0.000000   \n",
       "25%     328.000000     2.000000    22.000000     0.000000     0.000000   \n",
       "50%     655.000000     3.000000    30.000000     0.000000     0.000000   \n",
       "75%     982.000000     3.000000    35.000000     1.000000     0.000000   \n",
       "max    1309.000000     3.000000    80.000000     8.000000     9.000000   \n",
       "\n",
       "              Fare  \n",
       "count  1308.000000  \n",
       "mean     33.295479  \n",
       "std      51.758668  \n",
       "min       0.000000  \n",
       "25%       7.895800  \n",
       "50%      14.454200  \n",
       "75%      31.275000  \n",
       "max     512.329200  "
      ]
     },
     "execution_count": 30,
     "metadata": {},
     "output_type": "execute_result"
    }
   ],
   "source": [
    "combinedDF.describe()"
   ]
  },
  {
   "cell_type": "code",
   "execution_count": 31,
   "metadata": {},
   "outputs": [
    {
     "data": {
      "image/png": "[encoded data removed]",
      "text/plain": [
       "<Figure size 432x288 with 2 Axes>"
      ]
     },
     "metadata": {},
     "output_type": "display_data"
    }
   ],
   "source": [
    "plt.clf()\n",
    "corr = combinedDF.corr()\n",
    "sns.heatmap(corr)\n",
    "plt.show()"
   ]
  },
  {
   "cell_type": "code",
   "execution_count": 32,
   "metadata": {},
   "outputs": [
    {
     "data": {
      "text/plain": [
       "<Figure size 432x288 with 0 Axes>"
      ]
     },
     "metadata": {},
     "output_type": "display_data"
    },
    {
     "data": {
      "image/png": "[encoded data removed]",
      "text/plain": [
       "<Figure size 1491.88x720 with 2 Axes>"
      ]
     },
     "metadata": {},
     "output_type": "display_data"
    }
   ],
   "source": [
    "plt.clf()\n",
    "\n",
    "facet = sns.FacetGrid(trainDF, hue='Survived', aspect=4, row='Sex', height=5)\n",
    "facet.map(sns.kdeplot, 'Age', shade=True)\n",
    "facet.add_legend()\n",
    "\n",
    "plt.show()"
   ]
  },
  {
   "cell_type": "markdown",
   "metadata": {},
   "source": [
    "# Linear Regression"
   ]
  },
  {
   "cell_type": "code",
   "execution_count": 33,
   "metadata": {},
   "outputs": [
    {
     "ename": "ValueError",
     "evalue": "Input contains NaN, infinity or a value too large for dtype('float64').",
     "output_type": "error",
     "traceback": [
      "\u001b[0;31m---------------------------------------------------------------------------\u001b[0m",
      "\u001b[0;31mValueError\u001b[0m                                Traceback (most recent call last)",
      "\u001b[0;32m<ipython-input-33-bdd9fee29e1a>\u001b[0m in \u001b[0;36m<module>\u001b[0;34m()\u001b[0m\n\u001b[1;32m      4\u001b[0m \u001b[0;31m# y = 1 * x_0 + 2 * x_1 + 3\u001b[0m\u001b[0;34m\u001b[0m\u001b[0;34m\u001b[0m\u001b[0m\n\u001b[1;32m      5\u001b[0m \u001b[0;31m#y = numpy.dot(, numpy.array([1, 2])) + 3\u001b[0m\u001b[0;34m\u001b[0m\u001b[0;34m\u001b[0m\u001b[0m\n\u001b[0;32m----> 6\u001b[0;31m \u001b[0mreg\u001b[0m \u001b[0;34m=\u001b[0m \u001b[0mLinearRegression\u001b[0m\u001b[0;34m(\u001b[0m\u001b[0;34m)\u001b[0m\u001b[0;34m.\u001b[0m\u001b[0mfit\u001b[0m\u001b[0;34m(\u001b[0m\u001b[0mX\u001b[0m\u001b[0;34m,\u001b[0m \u001b[0my\u001b[0m\u001b[0;34m)\u001b[0m\u001b[0;34m\u001b[0m\u001b[0m\n\u001b[0m",
      "\u001b[0;32m/anaconda3/lib/python3.6/site-packages/sklearn/linear_model/base.py\u001b[0m in \u001b[0;36mfit\u001b[0;34m(self, X, y, sample_weight)\u001b[0m\n\u001b[1;32m    480\u001b[0m         \u001b[0mn_jobs_\u001b[0m \u001b[0;34m=\u001b[0m \u001b[0mself\u001b[0m\u001b[0;34m.\u001b[0m\u001b[0mn_jobs\u001b[0m\u001b[0;34m\u001b[0m\u001b[0m\n\u001b[1;32m    481\u001b[0m         X, y = check_X_y(X, y, accept_sparse=['csr', 'csc', 'coo'],\n\u001b[0;32m--> 482\u001b[0;31m                          y_numeric=True, multi_output=True)\n\u001b[0m\u001b[1;32m    483\u001b[0m \u001b[0;34m\u001b[0m\u001b[0m\n\u001b[1;32m    484\u001b[0m         \u001b[0;32mif\u001b[0m \u001b[0msample_weight\u001b[0m \u001b[0;32mis\u001b[0m \u001b[0;32mnot\u001b[0m \u001b[0;32mNone\u001b[0m \u001b[0;32mand\u001b[0m \u001b[0mnp\u001b[0m\u001b[0;34m.\u001b[0m\u001b[0matleast_1d\u001b[0m\u001b[0;34m(\u001b[0m\u001b[0msample_weight\u001b[0m\u001b[0;34m)\u001b[0m\u001b[0;34m.\u001b[0m\u001b[0mndim\u001b[0m \u001b[0;34m>\u001b[0m \u001b[0;36m1\u001b[0m\u001b[0;34m:\u001b[0m\u001b[0;34m\u001b[0m\u001b[0m\n",
      "\u001b[0;32m/anaconda3/lib/python3.6/site-packages/sklearn/utils/validation.py\u001b[0m in \u001b[0;36mcheck_X_y\u001b[0;34m(X, y, accept_sparse, dtype, order, copy, force_all_finite, ensure_2d, allow_nd, multi_output, ensure_min_samples, ensure_min_features, y_numeric, warn_on_dtype, estimator)\u001b[0m\n\u001b[1;32m    571\u001b[0m     X = check_array(X, accept_sparse, dtype, order, copy, force_all_finite,\n\u001b[1;32m    572\u001b[0m                     \u001b[0mensure_2d\u001b[0m\u001b[0;34m,\u001b[0m \u001b[0mallow_nd\u001b[0m\u001b[0;34m,\u001b[0m \u001b[0mensure_min_samples\u001b[0m\u001b[0;34m,\u001b[0m\u001b[0;34m\u001b[0m\u001b[0m\n\u001b[0;32m--> 573\u001b[0;31m                     ensure_min_features, warn_on_dtype, estimator)\n\u001b[0m\u001b[1;32m    574\u001b[0m     \u001b[0;32mif\u001b[0m \u001b[0mmulti_output\u001b[0m\u001b[0;34m:\u001b[0m\u001b[0;34m\u001b[0m\u001b[0m\n\u001b[1;32m    575\u001b[0m         y = check_array(y, 'csr', force_all_finite=True, ensure_2d=False,\n",
      "\u001b[0;32m/anaconda3/lib/python3.6/site-packages/sklearn/utils/validation.py\u001b[0m in \u001b[0;36mcheck_array\u001b[0;34m(array, accept_sparse, dtype, order, copy, force_all_finite, ensure_2d, allow_nd, ensure_min_samples, ensure_min_features, warn_on_dtype, estimator)\u001b[0m\n\u001b[1;32m    451\u001b[0m                              % (array.ndim, estimator_name))\n\u001b[1;32m    452\u001b[0m         \u001b[0;32mif\u001b[0m \u001b[0mforce_all_finite\u001b[0m\u001b[0;34m:\u001b[0m\u001b[0;34m\u001b[0m\u001b[0m\n\u001b[0;32m--> 453\u001b[0;31m             \u001b[0m_assert_all_finite\u001b[0m\u001b[0;34m(\u001b[0m\u001b[0marray\u001b[0m\u001b[0;34m)\u001b[0m\u001b[0;34m\u001b[0m\u001b[0m\n\u001b[0m\u001b[1;32m    454\u001b[0m \u001b[0;34m\u001b[0m\u001b[0m\n\u001b[1;32m    455\u001b[0m     \u001b[0mshape_repr\u001b[0m \u001b[0;34m=\u001b[0m \u001b[0m_shape_repr\u001b[0m\u001b[0;34m(\u001b[0m\u001b[0marray\u001b[0m\u001b[0;34m.\u001b[0m\u001b[0mshape\u001b[0m\u001b[0;34m)\u001b[0m\u001b[0;34m\u001b[0m\u001b[0m\n",
      "\u001b[0;32m/anaconda3/lib/python3.6/site-packages/sklearn/utils/validation.py\u001b[0m in \u001b[0;36m_assert_all_finite\u001b[0;34m(X)\u001b[0m\n\u001b[1;32m     42\u001b[0m             and not np.isfinite(X).all()):\n\u001b[1;32m     43\u001b[0m         raise ValueError(\"Input contains NaN, infinity\"\n\u001b[0;32m---> 44\u001b[0;31m                          \" or a value too large for %r.\" % X.dtype)\n\u001b[0m\u001b[1;32m     45\u001b[0m \u001b[0;34m\u001b[0m\u001b[0m\n\u001b[1;32m     46\u001b[0m \u001b[0;34m\u001b[0m\u001b[0m\n",
      "\u001b[0;31mValueError\u001b[0m: Input contains NaN, infinity or a value too large for dtype('float64')."
     ]
    }
   ],
   "source": [
    "from sklearn.linear_model import LinearRegression\n",
    "X = trainDF[\"Age\"].values.reshape(-1,1)\n",
    "y = trainDF[\"Survived\"].values.reshape(-1,1)\n",
    "# y = 1 * x_0 + 2 * x_1 + 3\n",
    "#y = numpy.dot(, numpy.array([1, 2])) + 3\n",
    "reg = LinearRegression().fit(X, y)"
   ]
  },
  {
   "cell_type": "code",
   "execution_count": null,
   "metadata": {},
   "outputs": [],
   "source": [
    "trainDF[\"Survived\"].shape"
   ]
  },
  {
   "cell_type": "code",
   "execution_count": null,
   "metadata": {},
   "outputs": [],
   "source": [
    "trainDF[\"Age\"].shape"
   ]
  },
  {
   "cell_type": "code",
   "execution_count": null,
   "metadata": {},
   "outputs": [],
   "source": [
    "reg.score(X, y)"
   ]
  },
  {
   "cell_type": "code",
   "execution_count": null,
   "metadata": {},
   "outputs": [],
   "source": [
    "reg.coef_"
   ]
  },
  {
   "cell_type": "code",
   "execution_count": null,
   "metadata": {},
   "outputs": [],
   "source": [
    "reg.intercept_ "
   ]
  },
  {
   "cell_type": "code",
   "execution_count": null,
   "metadata": {},
   "outputs": [],
   "source": [
    "reg.predict(numpy.array([[4]]))"
   ]
  },
  {
   "cell_type": "code",
   "execution_count": null,
   "metadata": {},
   "outputs": [],
   "source": [
    "plt.clf()\n",
    "plt.scatter(X[trainDF[\"Survived\"] == 0],trainDF[trainDF[\"Survived\"] == 0][\"Fare\"].values.reshape(-1,1))\n",
    "plt.scatter(X[trainDF[\"Survived\"] == 1],trainDF[trainDF[\"Survived\"] == 1][\"Fare\"].values.reshape(-1,1), color=\"r\")\n",
    "plt.show()"
   ]
  },
  {
   "cell_type": "code",
   "execution_count": null,
   "metadata": {},
   "outputs": [],
   "source": [
    "plt.clf()\n",
    "plt.bar(X[trainDF[\"Survived\"] == 0], trainDF[trainDF[\"Survived\"] == 0][\"Pclass\"].values.reshape(-1,1))\n",
    "plt.bar(X[trainDF[\"Survived\"] == 1], trainDF[trainDF[\"Survived\"] == 1][\"Pclass\"].values.reshape(-1,1), color=\"r\")\n",
    "plt.show()"
   ]
  },
  {
   "cell_type": "code",
   "execution_count": null,
   "metadata": {},
   "outputs": [],
   "source": [
    "plt.clf()\n",
    "g = sns.barplot(x=\"Sex\",y=\"Survived\",data=trainDF, palette = 'muted')\n",
    "g = g.set_ylabel(\"Survival Probability\")\n",
    "plt.show()"
   ]
  },
  {
   "cell_type": "code",
   "execution_count": null,
   "metadata": {},
   "outputs": [],
   "source": [
    "trainDF[\"Pclass\"].unique()"
   ]
  },
  {
   "cell_type": "code",
   "execution_count": null,
   "metadata": {},
   "outputs": [],
   "source": []
  }
 ],
 "metadata": {
  "kernelspec": {
   "display_name": "Python 3",
   "language": "python",
   "name": "python3"
  },
  "language_info": {
   "codemirror_mode": {
    "name": "ipython",
    "version": 3
   },
   "file_extension": ".py",
   "mimetype": "text/x-python",
   "name": "python",
   "nbconvert_exporter": "python",
   "pygments_lexer": "ipython3",
   "version": "3.6.6"
  }
 },
 "nbformat": 4,
 "nbformat_minor": 2
}
